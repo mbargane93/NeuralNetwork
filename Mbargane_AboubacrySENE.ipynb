{
  "nbformat": 4,
  "nbformat_minor": 0,
  "metadata": {
    "colab": {
      "name": "Mbargane_AboubacrySENE.ipynb",
      "provenance": [],
      "authorship_tag": "ABX9TyO1SSAmsRFsYcV0O7FaUfFW",
      "include_colab_link": true
    },
    "kernelspec": {
      "name": "python3",
      "display_name": "Python 3"
    },
    "language_info": {
      "name": "python"
    }
  },
  "cells": [
    {
      "cell_type": "markdown",
      "metadata": {
        "id": "view-in-github",
        "colab_type": "text"
      },
      "source": [
        "<a href=\"https://colab.research.google.com/github/mbargane93/NeuralNetwork/blob/main/Mbargane_AboubacrySENE.ipynb\" target=\"_parent\"><img src=\"https://colab.research.google.com/assets/colab-badge.svg\" alt=\"Open In Colab\"/></a>"
      ]
    },
    {
      "cell_type": "code",
      "execution_count": 1,
      "metadata": {
        "id": "KO9DhXPb2_wT"
      },
      "outputs": [],
      "source": [
        "import numpy as np\n",
        "import pandas as pd\n",
        "import matplotlib.pyplot as plt\n",
        "import seaborn as sns\n",
        "import time"
      ]
    },
    {
      "cell_type": "code",
      "source": [
        "from sklearn.datasets import make_regression\n",
        "from sklearn.model_selection import train_test_split"
      ],
      "metadata": {
        "id": "u2_jVudE3At3"
      },
      "execution_count": 2,
      "outputs": []
    },
    {
      "cell_type": "code",
      "source": [
        "# 1-Generate a synthetic data for a regression problem which contains 1000 rows and 4 features.\n",
        "X,Y=make_regression(n_samples=1000,n_features=4,noise=20)"
      ],
      "metadata": {
        "id": "QiZO0LL73D5z"
      },
      "execution_count": 49,
      "outputs": []
    },
    {
      "cell_type": "code",
      "source": [
        "def split_data(X,Y,train_percent):\n",
        "    np.random.seed(2)\n",
        "    perm = np.random.permutation(X.shape[0])\n",
        "    n= X.shape[0]\n",
        "    train_index = int(train_percent * n)\n",
        "    x_train = X[perm[:train_index]]\n",
        "    x_test = X[perm[train_index:]]\n",
        "    y_train = Y[perm[:train_index]]\n",
        "    y_test = Y[perm[train_index:]]\n",
        "\n",
        "    return x_train, x_test, y_train, y_test"
      ],
      "metadata": {
        "id": "p2u--_px1174"
      },
      "execution_count": 50,
      "outputs": []
    },
    {
      "cell_type": "code",
      "source": [
        "x_train, x_test, y_train, y_test =split_data(X,Y, 0.8)"
      ],
      "metadata": {
        "id": "yAVNTPZfIlx0"
      },
      "execution_count": 51,
      "outputs": []
    },
    {
      "cell_type": "code",
      "source": [
        "print('x_train.shape',x_train.shape)\n",
        "print('y_train.shape',y_train.shape)"
      ],
      "metadata": {
        "colab": {
          "base_uri": "https://localhost:8080/"
        },
        "id": "kGDBV-Xod0xQ",
        "outputId": "f3c12d48-82cc-4779-c596-f14cbb152f85"
      },
      "execution_count": 52,
      "outputs": [
        {
          "output_type": "stream",
          "name": "stdout",
          "text": [
            "x_train.shape (800, 4)\n",
            "y_train.shape (800,)\n"
          ]
        }
      ]
    },
    {
      "cell_type": "code",
      "source": [
        "plt.scatter(x_train[:,1], y_train)"
      ],
      "metadata": {
        "colab": {
          "base_uri": "https://localhost:8080/",
          "height": 283
        },
        "id": "WatsqD83e83-",
        "outputId": "bc7b2956-e148-4cbb-8bb6-252184f43be7"
      },
      "execution_count": 54,
      "outputs": [
        {
          "output_type": "execute_result",
          "data": {
            "text/plain": [
              "<matplotlib.collections.PathCollection at 0x7fbb64328350>"
            ]
          },
          "metadata": {},
          "execution_count": 54
        },
        {
          "output_type": "display_data",
          "data": {
            "text/plain": [
              "<Figure size 432x288 with 1 Axes>"
            ],
            "image/png": "[encoded data removed]"
          },
          "metadata": {
            "needs_background": "light"
          }
        }
      ]
    },
    {
      "cell_type": "code",
      "source": [
        "# 3-Create a class called NeuralNetworkRegressor of one hidden layer..."
      ],
      "metadata": {
        "id": "_zUQPwMUHET1"
      },
      "execution_count": 30,
      "outputs": []
    },
    {
      "cell_type": "code",
      "source": [
        "class NeuralNetworkRegressor:\n",
        "    \n",
        "    def __init__(self, x_test, y_test,batch_size=32, num_epochs= 2500, lr= 0.0001):\n",
        "        self.batch_size=batch_size\n",
        "        self.x_test=x_test\n",
        "        self.y_test=y_test\n",
        "        self.num_epochs=num_epochs\n",
        "        self.lr=lr\n",
        "        self.cost_train=[]\n",
        "        self.cost_test=[]\n",
        "        self.acc_train=[]\n",
        "        self.acc_test=[]\n",
        "        self.size=(4,16,1) \n",
        "        self.params = {\n",
        "                'w1':np.random.randn(self.size[1],self.size[0])*np.sqrt(1./self.size[0]),\n",
        "                'b1':np.random.randn(self.size[1],self.size[2])*np.sqrt(1./self.size[0]),\n",
        "                'w2':np.random.randn(self.size[2],self.size[1])* np.sqrt(1./self.size[1]),\n",
        "                'b2':np.random.randn(1,1)*np.sqrt(1./self.size[1])\n",
        "            }\n",
        "        \n",
        "    def create_mini_batches(self,x,y):\n",
        "        mini_batches=[]\n",
        "        y=y.reshape(-1,1)\n",
        "        data = np.hstack((x, y))\n",
        "        np.random.shuffle(data)\n",
        "        for start in range(0, len(x), self.batch_size):\n",
        "            stop = start + self.batch_size\n",
        "            x_batch, y_batch = data[start:stop, :-1], data[start:stop, -1:]\n",
        "            y_batch=y_batch.flatten()\n",
        "            mini_batches.append((x_batch, y_batch))\n",
        "        return mini_batches\n",
        "       \n",
        "    def MSE_loss(self,y,y_pred):             \n",
        "        loss=(1/y.shape[0])*np.sum(np.square(y-y_pred))\n",
        "        return loss\n",
        "\n",
        "    \n",
        "#     w1: an array of shape (hidden_dim, input_dim)\n",
        "#     b1: an array of shape (hidden_dim, 1). Bias vector\n",
        "#     w2: an array of shape (output_dim, hidden_dim)\n",
        "#     b2: an array of shape (1, 1)\n",
        "  \n",
        "#     z1: an array of shape (N, hidden_dim)\n",
        "#     z2: an array of shape (N, output_dim)\n",
        "        \n",
        "    def forward_pass(self, x):\n",
        "    \n",
        "        params=self.params\n",
        "\n",
        "        w1= params['w1']\n",
        "        b1= params['b1']\n",
        "\n",
        "        w2= params['w2']\n",
        "        b2= params['b2']\n",
        "\n",
        "        # ForwardPass\n",
        "        z1=w1@x.T+b1\n",
        "        a1= np.tanh(z1) \n",
        "\n",
        "        z2=w2@z1+b2\n",
        "       \n",
        "        return z1,a1,z2\n",
        "\n",
        "    def backward_pass(self, x, y):\n",
        "        params= self.params\n",
        "\n",
        "        w1= params['w1']\n",
        "        b1= params['b1']\n",
        "\n",
        "        w2= params['w2']\n",
        "        b2= params['b2']\n",
        "\n",
        "        # Backward\n",
        "\n",
        "        z1,a1, z2= self.forward_pass(x)\n",
        "        N= len(y)\n",
        "        \n",
        "        dw1= (1/N)*((w2.T@(z2-y))*(1-a1**2))@x\n",
        "        db1= np.sum((1/N)*((w2.T@(z2-y))*(1-a1**2)),axis=1,keepdims=True)\n",
        "        \n",
        "        dw2= (1/N)*(z2-y)@a1.T\n",
        "        db2= (1./N)*np.sum((z2-y),axis=1,keepdims=True)\n",
        "\n",
        "        return dw1, db1, dw2, db2\n",
        "    \n",
        "    def fit(self, x, y,earling_stop=False):\n",
        "        last_loss = 100\n",
        "        max_step = 2\n",
        "        step = 0\n",
        "        training = \"Epoch {}:, train_accur={:.2f}, train_loss={:.2f}, test_accur={:.2f}, test_loss={:.2f}\"\n",
        "        start_time = time.time()\n",
        "        for i in range(self.num_epochs):\n",
        "            mini_batches=self.create_mini_batches(x,y)\n",
        "            for x_b,y_b in mini_batches:\n",
        "                \n",
        "                test_loss=[]\n",
        "                train_loss=[]\n",
        "\n",
        "                dw1, db1, dw2, db2 = self.backward_pass(x_b,y_b)\n",
        "                \n",
        "                w1=self.params['w1']\n",
        "                w2=self.params['w2']\n",
        "                b1=self.params['b1']\n",
        "                b2=self.params['b2']\n",
        "              # Update parameters\n",
        "                w1= w1-(self.lr*dw1)\n",
        "                b1= b1-(self.lr*db1)\n",
        "\n",
        "\n",
        "                w2= w2-self.lr*dw2\n",
        "                b2= b2-self.lr*db2\n",
        "           \n",
        "                # Train Loss\n",
        "                z1,a1, y_pred= self.forward_pass(x_b)\n",
        "                train_loss.append(self.MSE_loss(y_b,y_pred))\n",
        "\n",
        "                # Test Loss\n",
        "                z1,a1,y_pred_test= self.forward_pass(self.x_test)\n",
        "                test_loss.append(self.MSE_loss(self.y_test,y_pred_test))\n",
        "                \n",
        "                # New Paramaters\n",
        "                self.params={'w1':w1,'b1':b1,'w2':w2,'b2':b2}\n",
        "                \n",
        "            train_accuracy =self.accuracy(x_b,y_b)\n",
        "            test_accuracy=self.accuracy(self.x_test,self.y_test)\n",
        "            self.acc_train.append(train_accuracy)\n",
        "            self.acc_test.append(test_accuracy)\n",
        "            self.cost_train.append(np.mean(train_loss))\n",
        "            self.cost_test.append(np.mean(test_loss))\n",
        "            \n",
        "            # Early stopping\n",
        "            if earling_stop==True:\n",
        "                current_loss = np.mean(test_loss)\n",
        "\n",
        "                if current_loss > last_loss:\n",
        "                    step += 1\n",
        "\n",
        "                    if step >= max_step:\n",
        "                        print('Early stopping!\\n This is the best model.')\n",
        "                        break\n",
        "\n",
        "\n",
        "                else:\n",
        "                    step = 0\n",
        "\n",
        "                last_loss = current_loss\n",
        "            print(training.format(i+1,train_accuracy, np.mean(train_loss),test_accuracy, np.mean(test_loss)))\n",
        "            \n",
        "    #Predict function\n",
        "    \n",
        "    def predict(self,x):\n",
        "        return self.forward_pass(x)[2].squeeze()\n",
        "    \n",
        "    # Compute accuracy \n",
        "    \n",
        "    def accuracy(self,x,y):\n",
        "        y_pred=self.predict(x)\n",
        "        a=np.sum(np.square(y-y_pred))\n",
        "        b=np.sum(np.square(y-np.mean(y)))\n",
        "        R2_score=1-(a/b)\n",
        "        return R2_score\n",
        "    #plot losses \n",
        "    def plot(self):\n",
        "        plt.subplot(211)\n",
        "        plt.xlabel('Epochs')\n",
        "        plt.ylabel('Loss')\n",
        "        plt.plot(np.arange(len(self.cost_train)), self.cost_train, 'r', linewidth = \"2\", label= 'Train Loss')\n",
        "        plt.plot(np.arange(len(self.cost_test)), self.cost_test, 'b', linewidth = \"2\", label= 'Validation Loss')\n",
        "        plt.legend()\n",
        "        plt.subplot(212)\n",
        "        plt.xlabel('Epochs')\n",
        "        plt.ylabel('Accuracy')\n",
        "        plt.plot(np.arange(len(self.acc_train)), self.acc_train, 'r', linewidth = \"2\", label= 'Train Accuracy')\n",
        "        plt.plot(np.arange(len(self.acc_test)), self.acc_test, 'b', linewidth = \"2\", label= 'Validation Accuracy')\n",
        "        plt.legend()\n",
        "        plt.show()"
      ],
      "metadata": {
        "id": "Xif37KtKjcfn"
      },
      "execution_count": 55,
      "outputs": []
    },
    {
      "cell_type": "code",
      "source": [
        "model=NeuralNetworkRegressor(x_test, y_test)"
      ],
      "metadata": {
        "id": "BDSI5rXZy1at"
      },
      "execution_count": 56,
      "outputs": []
    },
    {
      "cell_type": "code",
      "source": [
        "# 4. Use Mini-batch gradient descent for updating the weights and apply early stopping to select the best model."
      ],
      "metadata": {
        "id": "5KLIMDCM3Fv3"
      },
      "execution_count": 57,
      "outputs": []
    },
    {
      "cell_type": "code",
      "source": [
        "model.fit(x_train,y_train,earling_stop=True)"
      ],
      "metadata": {
        "colab": {
          "base_uri": "https://localhost:8080/"
        },
        "id": "1RnSat6Ky5hj",
        "outputId": "ecb6ce10-7c52-406c-d600-0bb7269de91d"
      },
      "execution_count": 58,
      "outputs": [
        {
          "output_type": "stream",
          "name": "stdout",
          "text": [
            "Epoch 1:, train_accur=0.01, train_loss=9589.79, test_accur=0.02, test_loss=11085.00\n",
            "Epoch 2:, train_accur=0.01, train_loss=5265.68, test_accur=0.04, test_loss=10877.30\n",
            "Epoch 3:, train_accur=0.06, train_loss=8453.12, test_accur=0.06, test_loss=10658.76\n",
            "Epoch 4:, train_accur=0.07, train_loss=11327.05, test_accur=0.08, test_loss=10416.56\n",
            "Epoch 5:, train_accur=0.10, train_loss=7272.92, test_accur=0.11, test_loss=10140.09\n",
            "Epoch 6:, train_accur=0.08, train_loss=7549.55, test_accur=0.13, test_loss=9835.90\n",
            "Epoch 7:, train_accur=0.16, train_loss=5695.88, test_accur=0.16, test_loss=9496.47\n",
            "Epoch 8:, train_accur=0.18, train_loss=8345.62, test_accur=0.20, test_loss=9131.80\n",
            "Epoch 9:, train_accur=0.23, train_loss=3763.23, test_accur=0.23, test_loss=8727.06\n",
            "Epoch 10:, train_accur=0.26, train_loss=5706.59, test_accur=0.27, test_loss=8307.82\n",
            "Epoch 11:, train_accur=0.30, train_loss=3302.70, test_accur=0.31, test_loss=7858.97\n",
            "Epoch 12:, train_accur=0.34, train_loss=7087.30, test_accur=0.35, test_loss=7412.43\n",
            "Epoch 13:, train_accur=0.32, train_loss=4555.24, test_accur=0.39, test_loss=6941.93\n",
            "Epoch 14:, train_accur=0.41, train_loss=6171.27, test_accur=0.43, test_loss=6478.64\n",
            "Epoch 15:, train_accur=0.45, train_loss=7026.10, test_accur=0.47, test_loss=6015.97\n",
            "Epoch 16:, train_accur=0.52, train_loss=5484.69, test_accur=0.51, test_loss=5559.97\n",
            "Epoch 17:, train_accur=0.48, train_loss=2981.76, test_accur=0.55, test_loss=5116.10\n",
            "Epoch 18:, train_accur=0.55, train_loss=3326.39, test_accur=0.59, test_loss=4697.38\n",
            "Epoch 19:, train_accur=0.55, train_loss=4084.61, test_accur=0.62, test_loss=4298.57\n",
            "Epoch 20:, train_accur=0.64, train_loss=3697.02, test_accur=0.66, test_loss=3920.12\n",
            "Epoch 21:, train_accur=0.69, train_loss=3106.36, test_accur=0.69, test_loss=3565.73\n",
            "Epoch 22:, train_accur=0.74, train_loss=4743.98, test_accur=0.72, test_loss=3241.13\n",
            "Epoch 23:, train_accur=0.76, train_loss=1794.51, test_accur=0.74, test_loss=2932.22\n",
            "Epoch 24:, train_accur=0.78, train_loss=2611.46, test_accur=0.77, test_loss=2657.52\n",
            "Epoch 25:, train_accur=0.82, train_loss=1802.60, test_accur=0.79, test_loss=2404.34\n",
            "Epoch 26:, train_accur=0.82, train_loss=2164.10, test_accur=0.81, test_loss=2175.76\n",
            "Epoch 27:, train_accur=0.83, train_loss=1208.23, test_accur=0.83, test_loss=1966.09\n",
            "Epoch 28:, train_accur=0.85, train_loss=1166.58, test_accur=0.84, test_loss=1781.29\n",
            "Epoch 29:, train_accur=0.88, train_loss=1830.81, test_accur=0.86, test_loss=1617.33\n",
            "Epoch 30:, train_accur=0.88, train_loss=1378.29, test_accur=0.87, test_loss=1466.58\n",
            "Epoch 31:, train_accur=0.90, train_loss=1327.93, test_accur=0.88, test_loss=1335.81\n",
            "Epoch 32:, train_accur=0.89, train_loss=910.99, test_accur=0.89, test_loss=1218.09\n",
            "Epoch 33:, train_accur=0.91, train_loss=908.32, test_accur=0.90, test_loss=1114.02\n",
            "Epoch 34:, train_accur=0.91, train_loss=956.17, test_accur=0.91, test_loss=1023.51\n",
            "Epoch 35:, train_accur=0.91, train_loss=994.80, test_accur=0.92, test_loss=944.28\n",
            "Epoch 36:, train_accur=0.89, train_loss=1004.66, test_accur=0.92, test_loss=873.58\n",
            "Epoch 37:, train_accur=0.91, train_loss=1060.92, test_accur=0.93, test_loss=813.15\n",
            "Epoch 38:, train_accur=0.90, train_loss=636.13, test_accur=0.93, test_loss=759.08\n",
            "Epoch 39:, train_accur=0.95, train_loss=628.29, test_accur=0.94, test_loss=712.77\n",
            "Epoch 40:, train_accur=0.93, train_loss=575.70, test_accur=0.94, test_loss=671.46\n",
            "Epoch 41:, train_accur=0.95, train_loss=428.27, test_accur=0.94, test_loss=636.54\n",
            "Epoch 42:, train_accur=0.96, train_loss=701.24, test_accur=0.95, test_loss=605.55\n",
            "Epoch 43:, train_accur=0.94, train_loss=522.90, test_accur=0.95, test_loss=579.18\n",
            "Epoch 44:, train_accur=0.95, train_loss=495.17, test_accur=0.95, test_loss=555.86\n",
            "Epoch 45:, train_accur=0.96, train_loss=354.44, test_accur=0.95, test_loss=535.75\n",
            "Epoch 46:, train_accur=0.94, train_loss=636.31, test_accur=0.95, test_loss=518.97\n",
            "Epoch 47:, train_accur=0.94, train_loss=468.36, test_accur=0.96, test_loss=503.63\n",
            "Epoch 48:, train_accur=0.95, train_loss=492.12, test_accur=0.96, test_loss=491.32\n",
            "Epoch 49:, train_accur=0.97, train_loss=354.46, test_accur=0.96, test_loss=479.61\n",
            "Epoch 50:, train_accur=0.95, train_loss=394.08, test_accur=0.96, test_loss=469.98\n",
            "Epoch 51:, train_accur=0.95, train_loss=490.62, test_accur=0.96, test_loss=461.84\n",
            "Epoch 52:, train_accur=0.96, train_loss=353.06, test_accur=0.96, test_loss=454.70\n",
            "Epoch 53:, train_accur=0.97, train_loss=398.22, test_accur=0.96, test_loss=448.61\n",
            "Epoch 54:, train_accur=0.97, train_loss=299.11, test_accur=0.96, test_loss=443.23\n",
            "Epoch 55:, train_accur=0.97, train_loss=376.32, test_accur=0.96, test_loss=438.32\n",
            "Epoch 56:, train_accur=0.96, train_loss=491.10, test_accur=0.96, test_loss=434.57\n",
            "Epoch 57:, train_accur=0.93, train_loss=508.31, test_accur=0.96, test_loss=431.06\n",
            "Epoch 58:, train_accur=0.97, train_loss=259.06, test_accur=0.96, test_loss=428.29\n",
            "Epoch 59:, train_accur=0.97, train_loss=479.14, test_accur=0.96, test_loss=425.64\n",
            "Epoch 60:, train_accur=0.95, train_loss=330.12, test_accur=0.96, test_loss=423.61\n",
            "Epoch 61:, train_accur=0.96, train_loss=405.25, test_accur=0.96, test_loss=421.70\n",
            "Epoch 62:, train_accur=0.95, train_loss=502.24, test_accur=0.96, test_loss=420.08\n",
            "Epoch 63:, train_accur=0.93, train_loss=427.96, test_accur=0.96, test_loss=418.79\n",
            "Epoch 64:, train_accur=0.91, train_loss=569.51, test_accur=0.96, test_loss=417.16\n",
            "Epoch 65:, train_accur=0.97, train_loss=297.59, test_accur=0.96, test_loss=416.20\n",
            "Epoch 66:, train_accur=0.98, train_loss=236.94, test_accur=0.96, test_loss=415.23\n",
            "Epoch 67:, train_accur=0.97, train_loss=439.35, test_accur=0.96, test_loss=414.56\n",
            "Epoch 68:, train_accur=0.96, train_loss=376.62, test_accur=0.96, test_loss=413.96\n",
            "Epoch 69:, train_accur=0.98, train_loss=236.67, test_accur=0.96, test_loss=413.20\n",
            "Epoch 70:, train_accur=0.97, train_loss=298.73, test_accur=0.96, test_loss=412.90\n",
            "Epoch 71:, train_accur=0.95, train_loss=305.03, test_accur=0.96, test_loss=412.47\n",
            "Epoch 72:, train_accur=0.95, train_loss=516.14, test_accur=0.96, test_loss=411.97\n",
            "Epoch 73:, train_accur=0.97, train_loss=286.41, test_accur=0.96, test_loss=411.70\n",
            "Epoch 74:, train_accur=0.95, train_loss=471.27, test_accur=0.96, test_loss=411.34\n",
            "Epoch 75:, train_accur=0.97, train_loss=313.50, test_accur=0.96, test_loss=411.15\n",
            "Epoch 76:, train_accur=0.97, train_loss=194.64, test_accur=0.96, test_loss=410.94\n",
            "Epoch 77:, train_accur=0.99, train_loss=199.03, test_accur=0.96, test_loss=410.78\n",
            "Epoch 78:, train_accur=0.97, train_loss=337.36, test_accur=0.96, test_loss=410.28\n",
            "Epoch 79:, train_accur=0.96, train_loss=391.97, test_accur=0.96, test_loss=410.56\n",
            "Epoch 80:, train_accur=0.97, train_loss=413.64, test_accur=0.96, test_loss=410.35\n",
            "Epoch 81:, train_accur=0.96, train_loss=492.50, test_accur=0.96, test_loss=410.19\n",
            "Epoch 82:, train_accur=0.97, train_loss=315.03, test_accur=0.96, test_loss=409.89\n",
            "Epoch 83:, train_accur=0.95, train_loss=646.01, test_accur=0.96, test_loss=409.78\n",
            "Epoch 84:, train_accur=0.96, train_loss=458.14, test_accur=0.96, test_loss=409.85\n",
            "Epoch 85:, train_accur=0.97, train_loss=278.66, test_accur=0.96, test_loss=409.69\n",
            "Epoch 86:, train_accur=0.97, train_loss=389.77, test_accur=0.96, test_loss=409.64\n",
            "Epoch 87:, train_accur=0.97, train_loss=349.12, test_accur=0.96, test_loss=409.62\n",
            "Epoch 88:, train_accur=0.96, train_loss=241.67, test_accur=0.96, test_loss=409.58\n",
            "Epoch 89:, train_accur=0.96, train_loss=391.41, test_accur=0.96, test_loss=409.55\n",
            "Epoch 90:, train_accur=0.91, train_loss=425.99, test_accur=0.96, test_loss=409.52\n",
            "Epoch 91:, train_accur=0.93, train_loss=464.03, test_accur=0.96, test_loss=409.60\n",
            "Early stopping!\n",
            " This is the best model.\n"
          ]
        }
      ]
    },
    {
      "cell_type": "code",
      "source": [
        "# 5. Compute the validation accuracy.\n",
        "model.accuracy(x_test,y_test)"
      ],
      "metadata": {
        "colab": {
          "base_uri": "https://localhost:8080/"
        },
        "id": "odfXfATZzDei",
        "outputId": "7548f8ea-a004-4c17-fe3a-c7123f5ca7e3"
      },
      "execution_count": 59,
      "outputs": [
        {
          "output_type": "execute_result",
          "data": {
            "text/plain": [
              "0.9638681168243965"
            ]
          },
          "metadata": {},
          "execution_count": 59
        }
      ]
    },
    {
      "cell_type": "code",
      "source": [
        "# 6 .Plot the training and validation loss\n",
        "model.plot()"
      ],
      "metadata": {
        "colab": {
          "base_uri": "https://localhost:8080/",
          "height": 279
        },
        "id": "tLLqGDzdzEPb",
        "outputId": "5b494b83-189c-4c03-d329-c5833faa857a"
      },
      "execution_count": 60,
      "outputs": [
        {
          "output_type": "display_data",
          "data": {
            "text/plain": [
              "<Figure size 432x288 with 2 Axes>"
            ],
            "image/png": "[encoded data removed]"
          },
          "metadata": {
            "needs_background": "light"
          }
        }
      ]
    },
    {
      "cell_type": "code",
      "source": [
        ""
      ],
      "metadata": {
        "id": "Mz7lV9-V2kiG"
      },
      "execution_count": 76,
      "outputs": []
    }
  ]
}